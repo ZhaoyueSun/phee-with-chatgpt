{
 "cells": [
  {
   "cell_type": "code",
   "execution_count": 1,
   "metadata": {},
   "outputs": [],
   "source": [
    "from collections import OrderedDict\n",
    "import json\n",
    "import random\n",
    "import os"
   ]
  },
  {
   "cell_type": "code",
   "execution_count": 2,
   "metadata": {},
   "outputs": [],
   "source": [
    "\n",
    "def read_data(data_file):\n",
    "\n",
    "    arg_type_map = OrderedDict({\n",
    "        \"subject disorder\": \"subject_disorder\",\n",
    "        \"time elapsed\":\"time_elapsed\",\n",
    "        \"treatment disorder\":\"indication\",\n",
    "        \"combination drug\":\"combination_drug\",\n",
    "    })\n",
    "\n",
    "    data = OrderedDict()\n",
    "\n",
    "    with open(data_file, \"r\") as f:\n",
    "        for line in f.readlines():\n",
    "            sample = {}\n",
    "            instance = json.loads(line)\n",
    "            sample[\"id\"] = instance[\"text_id\"]\n",
    "            sample[\"sentence\"] = instance[\"text\"]\n",
    "            sample[\"event_types\"] = []\n",
    "            answer = []\n",
    "            events = instance['event']\n",
    "            for event in events:\n",
    "                sample[\"event_types\"].append(event[\"type\"])\n",
    "                evt = {\n",
    "                    \"event_type\": event[\"type\"],\n",
    "                    \"event_trigger\": event[\"text\"],\n",
    "                    \"arguments\": OrderedDict({\n",
    "                        \"subject\":[],\n",
    "                        \"treatment\":[],\n",
    "                        \"effect\":[],\n",
    "                        \"age\":[],\n",
    "                        \"gender\":[],\n",
    "                        \"race\":[],\n",
    "                        \"population\":[],\n",
    "                        \"subject_disorder\":[],\n",
    "                        \"drug\":[],\n",
    "                        \"dosage\":[],\n",
    "                        \"route\":[],\n",
    "                        \"duration\":[],\n",
    "                        \"frequency\":[],\n",
    "                        \"time_elapsed\":[],\n",
    "                        \"indication\":[],\n",
    "                        \"combination_drug\":[]\n",
    "                    })\n",
    "                }\n",
    "\n",
    "                for argument in event['args']:\n",
    "                    arg_type = argument['type']\n",
    "                    arg_type = arg_type_map[arg_type] if arg_type in arg_type_map else arg_type\n",
    "                    arg_span = argument['text']\n",
    "                    evt[\"arguments\"][arg_type].append(arg_span)\n",
    "                for arg_type in evt[\"arguments\"]:\n",
    "                    if not evt[\"arguments\"][arg_type]:\n",
    "                        evt[\"arguments\"][arg_type] = \"N/A\"\n",
    "                    else:\n",
    "                        evt[\"arguments\"][arg_type] = \"; \".join(evt[\"arguments\"][arg_type])\n",
    "                answer.append(evt)\n",
    "\n",
    "            sample[\"answer\"] = json.dumps(answer)\n",
    "            data[sample[\"id\"]] = sample\n",
    "\n",
    "    return data"
   ]
  },
  {
   "cell_type": "code",
   "execution_count": 13,
   "metadata": {},
   "outputs": [],
   "source": [
    "train_file = \"../data/converted_data/text2spotasoc/event/phee_2/train.json\"\n",
    "train_data = read_data(train_file)\n",
    "syn_folder = \"output_3_constrain_drug\""
   ]
  },
  {
   "cell_type": "code",
   "execution_count": 14,
   "metadata": {},
   "outputs": [
    {
     "name": "stdout",
     "output_type": "stream",
     "text": [
      "Train case: \n",
      "{'id': '1849334_1', 'sentence': 'Muzolimine - induced severe neuromyeloencephalopathy : report of seven cases .', 'event_types': ['adverse event'], 'answer': '[{\"event_type\": \"adverse event\", \"event_trigger\": \"induced\", \"arguments\": {\"subject\": \"N/A\", \"treatment\": \"Muzolimine\", \"effect\": \"neuromyeloencephalopathy\", \"age\": \"N/A\", \"gender\": \"N/A\", \"race\": \"N/A\", \"population\": \"N/A\", \"subject_disorder\": \"N/A\", \"drug\": \"N/A\", \"dosage\": \"Muzolimine\", \"route\": \"N/A\", \"duration\": \"N/A\", \"frequency\": \"N/A\", \"time_elapsed\": \"N/A\", \"indication\": \"N/A\", \"combination_drug\": \"N/A\"}}]'}\n",
      "Synthesized case:\n",
      "{\"sentence\": \"Pyridostigmine bromide - induced gastrointestinal distress: report of five cases.\", \"output\": [{\"event_type\": \"adverse event\", \"event_trigger\": \"induced\", \"arguments\": {\"subject\": \"N/A\", \"treatment\": \"pyridostigmine bromide\", \"effect\": \"gastrointestinal distress\", \"age\": \"N/A\", \"gender\": \"N/A\", \"race\": \"N/A\", \"population\": \"N/A\", \"subject_disorder\": \"N/A\", \"drug\": \"N/A\", \"dosage\": \"pyridostigmine bromide\", \"route\": \"N/A\", \"duration\": \"N/A\", \"frequency\": \"N/A\", \"time_elapsed\": \"N/A\", \"indication\": \"N/A\", \"combination_drug\": \"N/A\"}}]}\n"
     ]
    }
   ],
   "source": [
    "sample_id = random.sample(list(train_data.keys()), 1)[0]\n",
    "# sample_id = '19531695_12'\n",
    "train_case = train_data[sample_id]\n",
    "# train_case.pop('id')\n",
    "print(\"Train case: \")\n",
    "print(train_case)\n",
    "syn_file = os.path.join(syn_folder, sample_id+\".json\")\n",
    "print(\"Synthesized case:\")\n",
    "with open(syn_file, 'r') as f:\n",
    "    print(f.read())\n"
   ]
  },
  {
   "cell_type": "code",
   "execution_count": 38,
   "metadata": {},
   "outputs": [
    {
     "name": "stdout",
     "output_type": "stream",
     "text": [
      "total drug number: 1\n",
      "total effect number: 49\n",
      "most common 50 drugs: [('methotrexate', 56)]\n",
      "most common 50 effects: [('papular eruption', 5), ('pneumonitis', 2), ('acute renal failure', 2), ('diffuse interstitial pulmonary fibrosis', 2), ('pleuropericarditis', 1), ('fatal acute encephalomyelitis', 1), ('cerebral edema and brainstem herniation', 1), ('varying degrees of neurotoxicity', 1), ('delayed stroke - like leukoencephalopathy', 1), ('severe back pain and urinary retention', 1), ('bilateral pulmonary infiltrates without evidence of peripheral blood eosinophilia', 1), ('systemic toxicity', 1), ('the development of lung cancer', 1), ('lymphoproliferative disorder', 1), ('posterior reversible encephalopathy syndrome', 1), ('a fatal rise in intracranial pressure', 1), ('bone marrow aplasia and severe skin rash', 1), ('presenting with status epilepticus', 1), ('malignant lymphoma', 1), ('nephropathy', 1), ('diffuse interstitial pulmonary fibrosis; bilateral pulmonary infiltrates', 1), ('aseptic pleuropericarditis', 1), ('skin rash and bone marrow aplasia', 1), ('progressive interstitial fibrosis with roentgenographic honeycombing', 1), ('progressive interstitial lung disease', 1), ('erosion of psoriatic plaques', 1), ('diffuse pruritic papular eruption located mainly on the limbs', 1), ('interstitial fibrosis of the lung', 1), ('toxic effects; elevated liver transaminases ( 3/4 ) , nausea ( 2/4 ) , abdominal pain ( 2/4 ) , bone pain ( 2/4 ) , mild neutropenia ( 1/4 ) , and mild pruritus ( 1/4 )', 1), ('neurotoxicity', 1), ('sub - acute neurotoxicity', 1), ('delayed elimination', 1), ('pneumocystis carinii pneumonia', 1), ('primary ovarian large b - cell lymphoma', 1), ('n/a', 1), ('infection with both m. tuberculosis and m. chelonae', 1), ('neurotoxic effects', 1), ('an intracranial mass lesion; transtentorial herniation', 1), ('subacute; neurotoxicity', 1), ('ascites', 1), ('methotrexate overdosage was shown at 36 h after infusion; severe renal failure', 1), ('shallow erosion of a psoriatic plaque', 1), ('papular eruption in psoriasis; cutaneous vasculitis in collagen vascular disease', 1), ('longitudinal diffusion - weighted mri findings of sub - acute leukoencephalopathy', 1), ('diffuse papular eruption', 1), ('sub - acute toxic leukoencephalopathy', 1), ('pneumocystis pneumonia; fever , pulmonary infiltrates , and hypoxia', 1), ('serositis', 1), ('hepatitis with bridging fibrosis and reversible hepatic insufficiency', 1)]\n",
      "total age number: 8\n",
      "most common 50 age: [('n/a', 49), ('children', 1), ('childhood', 1), ('15 - year - old', 1), ('64 year old', 1), ('17 - year - old', 1), ('43 - year - old', 1), ('24 - year - old', 1)]\n",
      "total route number: 5\n",
      "most common 50 route: [('n/a', 49), ('intrathecal', 2), ('intravenous', 2), ('injection', 2), ('injections', 1)]\n",
      "total dosage number: 10\n",
      "most common 50 dosage: [('n/a', 44), ('high - dose', 4), ('single dose', 1), ('190 mg; 175 mg; 196 mg', 1), ('low - dose', 1), ('single low dose', 1), ('40 mg / m2', 1), ('low dose', 1), ('5 g / m2', 1), ('15 mg / week', 1)]\n",
      "total indication number: 20\n",
      "most common 50 indication: [('n/a', 30), ('acute lymphoblastic leukemia', 3), ('rheumatoid arthritis', 3), ('psoriasis', 3), ('juvenile rheumatoid arthritis', 2), ('intracranial osteosarcoma', 1), ('childhood leukemia', 1), ('rheumatoid arthritis; psoriatic arthritis', 1), ('early unruptured tubal pregnancy', 1), ('primary osteogenic sarcoma', 1), ('chronic plaque psoriasis', 1), ('recurrent metastatic squamous cell carcinoma of the head and neck', 1), ('collagen vascular diseases', 1), ('psoriatic', 1), ('asthma', 1), ('a t - lymphoblastic lymphoma', 1), ('ectopic pregnancy', 1), ('seropositive rheumatoid arthritis', 1), ('psoriatic plaque', 1), ('asthmatic', 1)]\n"
     ]
    }
   ],
   "source": [
    "from collections import Counter\n",
    "\n",
    "def train_data_distribution(train_data):\n",
    "    drugs = []\n",
    "    effects = []\n",
    "    age = []\n",
    "    route = []\n",
    "    dosage = []\n",
    "    indication = []\n",
    "    for instance in train_data.values():\n",
    "        for event in json.loads(instance['answer']):\n",
    "            if event['arguments']['drug'].lower() != 'methotrexate':\n",
    "                continue\n",
    "            drugs.append(event['arguments']['drug'].lower())\n",
    "            effects.append(event['arguments']['effect'].lower())\n",
    "            age.append(event['arguments']['age'].lower())\n",
    "            route.append(event['arguments']['route'].lower())\n",
    "            dosage.append(event['arguments']['dosage'].lower())\n",
    "            indication.append(event['arguments']['indication'].lower())\n",
    "\n",
    "    drug_distrib = Counter(drugs)\n",
    "    effect_distrib = Counter(effects)\n",
    "    age_distrib = Counter(age)\n",
    "    route_distrib = Counter(route)\n",
    "    dosage_distrib = Counter(dosage)\n",
    "    indication_distrib = Counter(indication)\n",
    "\n",
    "    return drug_distrib, effect_distrib, age_distrib, route_distrib, dosage_distrib, indication_distrib\n",
    "\n",
    "drug_distrib, effect_distrib, age_distrib, route_distrib, dosage_distrib, indication_distrib = train_data_distribution(train_data)\n",
    "print(\"total drug number:\", len(drug_distrib))\n",
    "print(\"total effect number:\",len(effect_distrib))\n",
    "print(\"most common 50 drugs:\", drug_distrib.most_common(50))\n",
    "print(\"most common 50 effects:\", effect_distrib.most_common(50))\n",
    "\n",
    "print(\"total age number:\",len(age_distrib))\n",
    "print(\"most common 50 age:\", age_distrib.most_common(50))\n",
    "\n",
    "print(\"total route number:\",len(route_distrib))\n",
    "print(\"most common 50 route:\", route_distrib.most_common(50))\n",
    "\n",
    "print(\"total dosage number:\",len(dosage_distrib))\n",
    "print(\"most common 50 dosage:\", dosage_distrib.most_common(50))\n",
    "\n",
    "print(\"total indication number:\",len(indication_distrib))\n",
    "print(\"most common 50 indication:\", indication_distrib.most_common(50))\n",
    "    "
   ]
  },
  {
   "cell_type": "code",
   "execution_count": 12,
   "metadata": {},
   "outputs": [
    {
     "data": {
      "image/png": "[encoded data removed]",
      "text/plain": [
       "<Figure size 432x288 with 1 Axes>"
      ]
     },
     "metadata": {
      "needs_background": "light"
     },
     "output_type": "display_data"
    }
   ],
   "source": [
    "import pandas as pd\n",
    "frame = []\n",
    "for d in drug_distrib.most_common(len(drug_distrib)):\n",
    "    out = {\n",
    "        'item': d[0],\n",
    "        'count': d[1]\n",
    "    }\n",
    "    frame.append(out)\n",
    "\n",
    "frame = pd.DataFrame(frame)\n",
    "frame.head()\n",
    "\n",
    "import matplotlib.pyplot as plt\n",
    "\n",
    "# frame.plot.scatter(x=\"pred_score\", y=\"gold_score\")\n",
    "# plt.show()\n",
    "\n",
    "ax = frame[['count']].plot.hist(bins=50, alpha=0.5)\n"
   ]
  },
  {
   "cell_type": "code",
   "execution_count": 44,
   "metadata": {},
   "outputs": [
    {
     "name": "stdout",
     "output_type": "stream",
     "text": [
      "total drug number: 1\n",
      "total effect number: 33\n",
      "most common 50 drugs: [('methotrexate', 47)]\n",
      "most common 50 effects: [('papular eruption', 4), ('systemic toxicity', 3), ('aseptic pleuropericarditis', 2), ('malignant lymphoma', 2), ('diffuse papular eruption', 2), ('lymphoproliferative disorder', 2), ('subacute neurotoxicity', 2), ('progressive interstitial fibrosis with roentgenographic honeycombing', 2), ('delayed stroke - like leukoencephalopathy', 2), ('serositis', 2), ('presenting with status epilepticus', 2), ('severe back pain and urinary retention', 1), ('bone marrow aplasia; severe skin rash', 1), ('involving an intracranial mass lesion and transtentorial herniation', 1), ('papular eruption in psoriasis', 1), ('severe mucositis', 1), ('acute renal failure', 1), ('diffuse pruritic papular eruption located mainly on the limbs', 1), ('leukoencephalopathy and hydrocephalus', 1), ('improved joint mobility', 1), ('neurotoxic effects', 1), ('sub - acute toxic leukoencephalopathy', 1), (\"significant reduction in the size of the patient 's tumor\", 1), ('n/a', 1), ('cutaneous vasculitis', 1), ('severe renal failure', 1), ('delayed elimination', 1), ('pneumonitis', 1), ('diffuse interstitial pulmonary fibrosis; bilateral pulmonary infiltrates', 1), ('lung cancer', 1), ('cerebral edema and brainstem herniation', 1), ('diffuse interstitial pulmonary fibrosis', 1), ('interstitial fibrosis of the lung', 1)]\n",
      "total age number: 2\n",
      "most common 50 age: [('n/a', 46), ('45 - year - old', 1)]\n",
      "total route number: 2\n",
      "most common 50 route: [('n/a', 45), ('infusion', 2)]\n",
      "total dosage number: 2\n",
      "most common 50 dosage: [('n/a', 46), ('overdosage', 1)]\n",
      "total indication number: 6\n",
      "most common 50 indication: [('n/a', 25), ('rheumatoid arthritis', 15), ('psoriasis', 4), ('psoriasis treatment', 1), ('tumor', 1), ('advanced breast cancer', 1)]\n"
     ]
    }
   ],
   "source": [
    "# def syn_data_distribution():\n",
    "#     drugs = []\n",
    "#     for file_name in os.listdir(syn_folder):\n",
    "#         with open(os.path.join(syn_folder, file_name), 'r') as f:\n",
    "#             try:\n",
    "#                 line = f.read()\n",
    "#                 instance = json.loads(line)\n",
    "#                 for event in instance[\"output\"]:\n",
    "#                     drugs.append(event[\"arguments\"][\"drug\"].lower())\n",
    "#             except:\n",
    "#                 print(line)\n",
    "#     distrib = Counter(drugs)\n",
    "#     return distrib\n",
    "syn_file = \"../data/converted_data/text2spotasoc/event/phee_2_aug_constrain/train_aug_constrain_drug_and_effect.json\"\n",
    "syn_data = read_data(syn_file)\n",
    "# drug_distrib, effect_distrib = train_data_distribution(syn_data)\n",
    "# print(\"total drug number:\", len(drug_distrib))\n",
    "# print(\"total effect number:\",len(effect_distrib))\n",
    "# print(\"most common 50 drugs:\", drug_distrib.most_common(50))\n",
    "# print(\"most common 50 effects:\", effect_distrib.most_common(50))\n",
    "    \n",
    "drug_distrib, effect_distrib, age_distrib, route_distrib, dosage_distrib, indication_distrib = train_data_distribution(syn_data)\n",
    "print(\"total drug number:\", len(drug_distrib))\n",
    "print(\"total effect number:\",len(effect_distrib))\n",
    "print(\"most common 50 drugs:\", drug_distrib.most_common(50))\n",
    "print(\"most common 50 effects:\", effect_distrib.most_common(50))\n",
    "\n",
    "print(\"total age number:\",len(age_distrib))\n",
    "print(\"most common 50 age:\", age_distrib.most_common(50))\n",
    "\n",
    "print(\"total route number:\",len(route_distrib))\n",
    "print(\"most common 50 route:\", route_distrib.most_common(50))\n",
    "\n",
    "print(\"total dosage number:\",len(dosage_distrib))\n",
    "print(\"most common 50 dosage:\", dosage_distrib.most_common(50))\n",
    "\n",
    "print(\"total indication number:\",len(indication_distrib))\n",
    "print(\"most common 50 indication:\", indication_distrib.most_common(50))"
   ]
  },
  {
   "cell_type": "code",
   "execution_count": 17,
   "metadata": {},
   "outputs": [
    {
     "data": {
      "image/png": "[encoded data removed]",
      "text/plain": [
       "<Figure size 432x288 with 1 Axes>"
      ]
     },
     "metadata": {
      "needs_background": "light"
     },
     "output_type": "display_data"
    }
   ],
   "source": [
    "import pandas as pd\n",
    "frame = []\n",
    "for d in drug_distrib.most_common(len(drug_distrib)):\n",
    "    out = {\n",
    "        'item': d[0],\n",
    "        'count': d[1]\n",
    "    }\n",
    "    frame.append(out)\n",
    "\n",
    "frame = pd.DataFrame(frame)\n",
    "frame.head()\n",
    "\n",
    "import matplotlib.pyplot as plt\n",
    "\n",
    "# frame.plot.scatter(x=\"pred_score\", y=\"gold_score\")\n",
    "# plt.show()\n",
    "\n",
    "ax = frame[['count']].plot.hist(bins=50, alpha=0.5)"
   ]
  }
 ],
 "metadata": {
  "kernelspec": {
   "display_name": "uie",
   "language": "python",
   "name": "python3"
  },
  "language_info": {
   "codemirror_mode": {
    "name": "ipython",
    "version": 3
   },
   "file_extension": ".py",
   "mimetype": "text/x-python",
   "name": "python",
   "nbconvert_exporter": "python",
   "pygments_lexer": "ipython3",
   "version": "3.8.13"
  },
  "orig_nbformat": 4
 },
 "nbformat": 4,
 "nbformat_minor": 2
}
