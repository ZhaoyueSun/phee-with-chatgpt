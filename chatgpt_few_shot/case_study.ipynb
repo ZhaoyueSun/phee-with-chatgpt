{
 "cells": [
  {
   "cell_type": "code",
   "execution_count": 1,
   "metadata": {},
   "outputs": [],
   "source": [
    "import os\n",
    "import sys\n",
    "sys.path.append(os.path.abspath('../'))\n",
    "os.chdir(os.path.abspath('../'))\n",
    "from scripts.eval_phee.sample_all import get_label_mapper, read_gold_result, read_pred_results \n",
    "import random\n",
    "import tabulate\n",
    "from IPython.display import display_html"
   ]
  },
  {
   "cell_type": "code",
   "execution_count": 2,
   "metadata": {},
   "outputs": [
    {
     "name": "stderr",
     "output_type": "stream",
     "text": [
      "/home/u2081275/anaconda3/envs/uie/lib/python3.8/site-packages/requests/__init__.py:102: RequestsDependencyWarning: urllib3 (1.26.8) or chardet (5.1.0)/charset_normalizer (2.0.10) doesn't match a supported version!\n",
      "  warnings.warn(\"urllib3 ({}) or chardet ({})/charset_normalizer ({}) doesn't match a supported \"\n"
     ]
    }
   ],
   "source": [
    "from chatgpt_few_shot.prompter import Prompter"
   ]
  },
  {
   "cell_type": "code",
   "execution_count": 3,
   "metadata": {},
   "outputs": [],
   "source": [
    "m1 = \"BM25-Type\"\n",
    "m2 = \"TreeKernelW-Type\"\n",
    "demo_num = 5\n",
    "\n",
    "data_folder = \"data/converted_data/text2spotasoc/event/phee_2/\"\n",
    "# config_file = \"dataset_processing/data_config/event/phee2.yaml\"\n",
    "# gold_file = \"data/datasets/phee2/source/test.json\"\n",
    "instruction_template = \"chatgpt_few_shot/instruction_templates/explanation.json\"\n",
    "query_template = \"chatgpt_few_shot/query_templates/explanation.json\"\n",
    "\n",
    "prompter1 = Prompter(data_folder, demo_num=demo_num, demo_strategy=m1, instruction_template=instruction_template, query_template=query_template)\n",
    "prompter2 = Prompter(data_folder, demo_num=demo_num, demo_strategy=m2, instruction_template=instruction_template, query_template=query_template)\n",
    "\n",
    "case_list = prompter1.test_list\n",
    "\n",
    "lb_mapper = get_label_mapper(config_file)\n",
    "gold_instances = read_gold_result(gold_file)\n",
    "\n",
    "assert(len(case_list) == len(gold_instances))"
   ]
  },
  {
   "cell_type": "code",
   "execution_count": 39,
   "metadata": {},
   "outputs": [
    {
     "name": "stdout",
     "output_type": "stream",
     "text": [
      "Treatment of a patient with severe digitoxin intoxication by Fab fragments of anti - digitalis antibodies .\n"
     ]
    },
    {
     "data": {
      "text/html": [
       "<table>\n",
       "<tbody>\n",
       "<tr><td>                </td><td>gold                                        </td><td>BM25-Type                                   </td><td>TreeKernelW-Type                            </td></tr>\n",
       "<tr><td>subject         </td><td>a patient with severe digitoxin intoxication</td><td>a patient with severe digitoxin intoxication</td><td>a patient with severe digitoxin intoxication</td></tr>\n",
       "<tr><td>treatment       </td><td>Fab fragments of anti - digitalis antibodies</td><td>Fab fragments of anti - digitalis antibodies</td><td>Fab fragments of anti - digitalis antibodies</td></tr>\n",
       "<tr><td>effect          </td><td>N/A                                         </td><td>N/A                                         </td><td>N/A                                         </td></tr>\n",
       "<tr><td>age             </td><td>N/A                                         </td><td>N/A                                         </td><td>N/A                                         </td></tr>\n",
       "<tr><td>gender          </td><td>N/A                                         </td><td>N/A                                         </td><td>N/A                                         </td></tr>\n",
       "<tr><td>race            </td><td>N/A                                         </td><td>N/A                                         </td><td>N/A                                         </td></tr>\n",
       "<tr><td>population      </td><td>N/A                                         </td><td>N/A                                         </td><td>N/A                                         </td></tr>\n",
       "<tr><td>subject_disorder</td><td>digitoxin intoxication                      </td><td>severe digitoxin intoxication               </td><td>severe digitoxin intoxication               </td></tr>\n",
       "<tr><td>drug            </td><td>Fab fragments of anti - digitalis antibodies</td><td>Fab fragments of anti - digitalis antibodies</td><td>Fab fragments of anti - digitalis antibodies</td></tr>\n",
       "<tr><td>dosage          </td><td>N/A                                         </td><td>N/A                                         </td><td>N/A                                         </td></tr>\n",
       "<tr><td>route           </td><td>N/A                                         </td><td>N/A                                         </td><td>N/A                                         </td></tr>\n",
       "<tr><td>duration        </td><td>N/A                                         </td><td>N/A                                         </td><td>N/A                                         </td></tr>\n",
       "<tr><td>frequency       </td><td>N/A                                         </td><td>N/A                                         </td><td>N/A                                         </td></tr>\n",
       "<tr><td>time_elapsed    </td><td>N/A                                         </td><td>N/A                                         </td><td>N/A                                         </td></tr>\n",
       "<tr><td>indication      </td><td>digitoxin intoxication                      </td><td>severe digitoxin intoxication               </td><td>N/A                                         </td></tr>\n",
       "<tr><td>combination_drug</td><td>N/A                                         </td><td>N/A                                         </td><td>N/A                                         </td></tr>\n",
       "<tr><td>event_type      </td><td>potential therapeutic event                 </td><td>potential therapeutic event                 </td><td>potential therapeutic event                 </td></tr>\n",
       "</tbody>\n",
       "</table>"
      ],
      "text/plain": [
       "'<table>\\n<tbody>\\n<tr><td>                </td><td>gold                                        </td><td>BM25-Type                                   </td><td>TreeKernelW-Type                            </td></tr>\\n<tr><td>subject         </td><td>a patient with severe digitoxin intoxication</td><td>a patient with severe digitoxin intoxication</td><td>a patient with severe digitoxin intoxication</td></tr>\\n<tr><td>treatment       </td><td>Fab fragments of anti - digitalis antibodies</td><td>Fab fragments of anti - digitalis antibodies</td><td>Fab fragments of anti - digitalis antibodies</td></tr>\\n<tr><td>effect          </td><td>N/A                                         </td><td>N/A                                         </td><td>N/A                                         </td></tr>\\n<tr><td>age             </td><td>N/A                                         </td><td>N/A                                         </td><td>N/A                                         </td></tr>\\n<tr><td>gender          </td><td>N/A                                         </td><td>N/A                                         </td><td>N/A                                         </td></tr>\\n<tr><td>race            </td><td>N/A                                         </td><td>N/A                                         </td><td>N/A                                         </td></tr>\\n<tr><td>population      </td><td>N/A                                         </td><td>N/A                                         </td><td>N/A                                         </td></tr>\\n<tr><td>subject_disorder</td><td>digitoxin intoxication                      </td><td>severe digitoxin intoxication               </td><td>severe digitoxin intoxication               </td></tr>\\n<tr><td>drug            </td><td>Fab fragments of anti - digitalis antibodies</td><td>Fab fragments of anti - digitalis antibodies</td><td>Fab fragments of anti - digitalis antibodies</td></tr>\\n<tr><td>dosage          </td><td>N/A                                         </td><td>N/A                                         </td><td>N/A                                         </td></tr>\\n<tr><td>route           </td><td>N/A                                         </td><td>N/A                                         </td><td>N/A                                         </td></tr>\\n<tr><td>duration        </td><td>N/A                                         </td><td>N/A                                         </td><td>N/A                                         </td></tr>\\n<tr><td>frequency       </td><td>N/A                                         </td><td>N/A                                         </td><td>N/A                                         </td></tr>\\n<tr><td>time_elapsed    </td><td>N/A                                         </td><td>N/A                                         </td><td>N/A                                         </td></tr>\\n<tr><td>indication      </td><td>digitoxin intoxication                      </td><td>severe digitoxin intoxication               </td><td>N/A                                         </td></tr>\\n<tr><td>combination_drug</td><td>N/A                                         </td><td>N/A                                         </td><td>N/A                                         </td></tr>\\n<tr><td>event_type      </td><td>potential therapeutic event                 </td><td>potential therapeutic event                 </td><td>potential therapeutic event                 </td></tr>\\n</tbody>\\n</table>'"
      ]
     },
     "execution_count": 39,
     "metadata": {},
     "output_type": "execute_result"
    }
   ],
   "source": [
    "while True:\n",
    "    sample_case = random.sample(case_list, 1)[0]\n",
    "    test_instance = prompter1.get_an_instance(sample_case)\n",
    "    test_sent = test_instance[\"sentence\"]\n",
    "\n",
    "    if test_instance['event_types'][0] != 'potential therapeutic event':\n",
    "        continue\n",
    "\n",
    "    break\n",
    "\n",
    "\n",
    "import json\n",
    "\n",
    "def read_pred_instance(model, test_id):\n",
    "    events = []\n",
    "    rst_path = \"chatgpt_few_shot/output/%s_demo_5/test/%s.json\"%(model, test_id)\n",
    "    with open(rst_path, 'r') as f:\n",
    "        data = json.load(f)\n",
    "        for event in json.loads(data[\"answer\"]):\n",
    "            etp = event[\"event_type\"]\n",
    "            arguments = event[\"arguments\"]\n",
    "            arguments[\"event_type\"] = etp\n",
    "            events.append(arguments)\n",
    "    return events\n",
    "    \n",
    "pred1 = read_pred_instance(m1, sample_case)\n",
    "pred2 = read_pred_instance(m2, sample_case)\n",
    "\n",
    "print(test_instance['sentence'])\n",
    "table = []\n",
    "table.append([\"\", \"gold\", m1, m2])\n",
    "for eid, event in enumerate(json.loads(test_instance['answer'])):\n",
    "    if eid < len(pred1):\n",
    "        event1 = pred1[eid]\n",
    "    else:\n",
    "        event1 = {}\n",
    "    if eid < len(pred2):\n",
    "        event2 = pred2[eid]\n",
    "    else:\n",
    "        event2 = {}\n",
    "\n",
    "    event[\"arguments\"][\"event_type\"] = event[\"event_type\"]\n",
    "    for k, v in event[\"arguments\"].items():\n",
    "        arg_line = [k, v]\n",
    "        if k in event1:\n",
    "            arg_line.append(event1[k])\n",
    "        else:\n",
    "            arg_line.append(\"\")\n",
    "        if k in event2:\n",
    "            arg_line.append(event2[k])\n",
    "        else:\n",
    "            arg_line.append(\"\")\n",
    "        table.append(arg_line)\n",
    "\n",
    "tabulate.tabulate(table, tablefmt='html')"
   ]
  },
  {
   "cell_type": "code",
   "execution_count": 40,
   "metadata": {},
   "outputs": [
    {
     "name": "stdout",
     "output_type": "stream",
     "text": [
      "Query: Treatment of a patient with severe digitoxin intoxication by Fab fragments of anti - digitalis antibodies .\n",
      "BM25-Type Retrivals:\n",
      "Sentence: Treatment with infliximab is known to produce an increase of autoantibodies ( antinuclear antibodies , anti - double - stranded DNA ) , but not clinical disease .\n",
      "Sentence: Neurointensive care management of raised intracranial pressure caused by severe valproic acid intoxication .\n",
      "Sentence: Severe water intoxication secondary to the concomitant intake of non - steroidal anti - inflammatory drugs and desmopressin : a case report and review of the literature .\n",
      "Sentence: Treatment of chronic hepatitis C with interferon alpha ( IFN - alpha ) is relatively contraindicated in patients with psychiatric disorders because of possible severe psychiatric side effects .\n",
      "Sentence: A patient with alcoholic cerebellar degeneration had periodic alternating nystagmus during a period of phenytoin intoxication .\n",
      "Sentence: Flumazenil reversal of benzodiazepine - induced sedation for a patient with severe pre - ECT anxiety .\n",
      "Sentence: Relief by naloxone of morphine - induced spasm of the sphincter of Oddi in a post - cholecystectomy patient .\n",
      "Sentence: Treatment of amiodarone - induced thyrotoxicosis ( AIT ) with thionamide , lithium or radioactive iodine is ineffective .\n",
      "Sentence: Normalization of generalized retinal function and progression of maculopathy after cessation of therapy in a case of severe hydroxychloroquine retinopathy with 19 years follow - up .\n",
      "Sentence: SLE receded after withdrawal of carbamazepine and treatment with anti - inflammatory drugs .\n",
      "\n",
      "Query: Treatment of a patient with severe digitoxin intoxication by Fab fragments of anti - digitalis antibodies .\n",
      "TreeKernelW-Type Retrivals:\n",
      "Sentence: Acute severe intoxication with carbamazepine is associated with seizures , coma and respiratory depression .\n",
      "Sentence: Neurointensive care management of raised intracranial pressure caused by severe valproic acid intoxication .\n",
      "Sentence: Propafenone associated severe central nervous system and cardiovascular toxicity due to mirtazapine : a case of severe drug interaction .\n",
      "Sentence: When the patient was treated again with fludarabine nine months later , the DAT became positive with anti - IgG and anti - C3d antiglobulins after the second course of treatment .\n",
      "Sentence: Asthenozoospermia : possible association with long - term exposure to an anti - epileptic drug of carbamazepine .\n",
      "Sentence: SLE receded after withdrawal of carbamazepine and treatment with anti - inflammatory drugs .\n",
      "Sentence: Successful treatment with arsenic trioxide of a patient with ATRA - resistant relapse of acute promyelocytic leukemia .\n",
      "Sentence: Paroxetine is a selective serotonin reuptake inhibitor possessing anti - depressant activity .\n",
      "Sentence: Flumazenil reversal of benzodiazepine - induced sedation for a patient with severe pre - ECT anxiety .\n",
      "Sentence: Complete regression of iatrogenic Kaposi 's sarcoma due to corticosteroid treatment in a patient with tubercular pericarditis .\n",
      "\n"
     ]
    }
   ],
   "source": [
    "for prompter, strategy in zip([prompter1, prompter2], [m1, m2]):\n",
    "    print(\"Query:\", test_sent)\n",
    "    retrievals = prompter.get_demostrations_prompt(test_instance)\n",
    "    print(\"%s Retrivals:\"%strategy)\n",
    "    for sample in retrievals:\n",
    "        if sample['role'] == 'user':\n",
    "            print(sample['content'].replace(\" Output:\",\"\"))\n",
    "    print(\"\")"
   ]
  }
 ],
 "metadata": {
  "kernelspec": {
   "display_name": "Python 3 (ipykernel)",
   "language": "python",
   "name": "python3"
  },
  "language_info": {
   "codemirror_mode": {
    "name": "ipython",
    "version": 3
   },
   "file_extension": ".py",
   "mimetype": "text/x-python",
   "name": "python",
   "nbconvert_exporter": "python",
   "pygments_lexer": "ipython3",
   "version": "3.8.13"
  },
  "vscode": {
   "interpreter": {
    "hash": "85eb60131389867cb2c644f53e0bdf071faf3f18335948bbf167ee6bb1f060e5"
   }
  }
 },
 "nbformat": 4,
 "nbformat_minor": 2
}
